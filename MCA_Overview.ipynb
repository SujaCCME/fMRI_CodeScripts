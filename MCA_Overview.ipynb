{
 "cells": [
  {
   "cell_type": "markdown",
   "metadata": {},
   "source": [
    "# MCA Files"
   ]
  },
  {
   "cell_type": "markdown",
   "metadata": {},
   "source": [
    "## Bash Scripts"
   ]
  },
  {
   "cell_type": "markdown",
   "metadata": {},
   "source": [
    "The following are the main files located in */Volumes/cerebro/Studies/VOGT/NeuCLA/Public/Data*. Using shell scripting, written to execute all steps involved in the **data preparation, conversion, and preprocessing** :\n",
    "\n",
    "1.  MCA_DCM2BIDS.sh \n",
    "2.  MCA_FirstLevelDataPrep_FSL_a.sh \n",
    "3.  MCA_Mem_Motion_Outliers.sh\n",
    "4.  MCA_Pain_Motion_Outliers.sh \n",
    "5.  MCA_Mem_Performance.sh  \n",
    "6.  MCA_Subj_Level_MemPrePro+Stats_FSL_oacV.sh\n",
    "7.  MCA_MEM_firstlevel_FEAT_checks_a.sh \n",
    "8.  MCA_MEM_firstlevelSTATSONLY_FEAT_checks.sh - results from Jupyter notebook (Combined GLM Design files) are used here for the script's inputs.\n",
    "9.  MCA_PAIN_firstlevelSTATSONLY_FEAT_checks.sh - results from Jupyter notebook (Combined GLM Design files) are used here for the script's inputs.\n",
    "\n",
    "By running the above scripts for their specific purposes, all steps are automated using the batch processing. More descriptions are included in the header notes/commented notes within each file."
   ]
  },
  {
   "cell_type": "markdown",
   "metadata": {},
   "source": [
    "## FSL design file templates"
   ]
  },
  {
   "cell_type": "markdown",
   "metadata": {},
   "source": [
    "**For Running Preprocessing with Full Stats on First Level**\n",
    "1. MCA_Mem_firstleveldesign_template_NOmpCON_oacV.fsf  \n",
    "2. MCA_Mem_firstleveldesign_template_mpCON_oacV.fsf\n",
    "3. MCA_Pain_firstleveldesign_template_NOmpCON_oacV.fsf\n",
    "4. MCA_Pain_firstleveldesign_template_mpCON_oacV.fsf   \n",
    "\n",
    "**Copies for Mem Simultaneous Runs in OACIbinson**\n",
    "1. MCA_Mem_firstleveldesign_template_NOmpCON_oacI.fsf (copy)  \n",
    "2. MCA_Mem_firstleveldesign_template_mpCON_oacI.fsf  (copy)  \n",
    "\n",
    "**For Running Only Stats without Preprocessing**\n",
    "1. MCA_Mem_StatsOnly_design_template_mpCON_oacV.fsf \n",
    "2. MCA_Pain_StatsOnly_design_template_mpCON_oacV.fsf.fsf"
   ]
  },
  {
   "cell_type": "markdown",
   "metadata": {},
   "source": [
    "## Jupyter Notebooks\n",
    "1. MCA_Mem_FirstLevelStats-CompCor-DataPrep.ipynb\n",
    "2. MCA_Pain_FirstLevelStats-CompCor-DataPrep.ipynb"
   ]
  },
  {
   "cell_type": "markdown",
   "metadata": {},
   "source": [
    "## FSL output data structure for MCA FEAT directories"
   ]
  },
  {
   "cell_type": "markdown",
   "metadata": {},
   "source": [
    "1. First Level Subj Analyses:\n",
    "files: Copes 1-6 .nii.gz : 3 contrasts’ activation and their deactivation\n",
    "\n",
    "2. Second Level Intermediate Analyses:\n",
    "Directories: copes 1-6.feat : each with cope 1 nii.gz and cope 2.nii.gz as ses1 and ses2 \n"
   ]
  },
  {
   "cell_type": "markdown",
   "metadata": {},
   "source": [
    "## Misc "
   ]
  },
  {
   "cell_type": "markdown",
   "metadata": {},
   "source": [
    "1. MCA_PAIN_vols.sh  -- Runs QC for checking volumes for Pain data\n",
    "2. MCA_MEM_secondlevel_FEAT_checks_b.sh \n",
    "3. reg_standard.sh -- Trial script for attempting to avoid registration errors with FSL GUI by making duplicate copies of the \"reg_standard\" folder contents in the feat output directories."
   ]
  }
 ],
 "metadata": {
  "kernelspec": {
   "display_name": "Python 3",
   "language": "python",
   "name": "python3"
  },
  "language_info": {
   "codemirror_mode": {
    "name": "ipython",
    "version": 3
   },
   "file_extension": ".py",
   "mimetype": "text/x-python",
   "name": "python",
   "nbconvert_exporter": "python",
   "pygments_lexer": "ipython3",
   "version": "3.11.4"
  }
 },
 "nbformat": 4,
 "nbformat_minor": 2
}
